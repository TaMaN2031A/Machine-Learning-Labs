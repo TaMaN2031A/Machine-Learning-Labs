{
 "cells": [
  {
   "cell_type": "markdown",
   "id": "f022215e",
   "metadata": {},
   "source": [
    "Links helped us in this part:\n",
    "1 https://netpbm.sourceforge.net/doc/pgm.html \n",
    "Explains what is a pgm file.\n",
    "2 https://stackoverflow.com/questions/35723865/read-a-pgm-file-in-python\n",
    "Explains what is the pgm file.\n",
    "3 Now I'm facing a new issue which is the b character at the beginning of every line\n",
    "https://www.geeksforgeeks.org/effect-of-b-character-in-front-of-a-string-literal-in-python/\n",
    "4 Writing the data in a file for debugging\n",
    "https://www.pythonmorsels.com/creating-and-writing-file-python/#:~:text=To%20write%20to%20a%20text,file%20to%20write%20to%20it."
   ]
  },
  {
   "cell_type": "code",
   "execution_count": 1,
   "id": "eb8c43fd",
   "metadata": {},
   "outputs": [
    {
     "name": "stdout",
     "output_type": "stream",
     "text": [
      "Number of images: 400\n",
      "Width of images: 112\n",
      "Height of images: 92\n"
     ]
    }
   ],
   "source": [
    "def read_pgm(pgmf):\n",
    "    \"\"\"Return a raster of integers from a PGM as a list of lists.\"\"\"\n",
    "    assert pgmf.readline().decode('ascii') == 'P5\\n'\n",
    "    (width, height) = [int(i) for i in pgmf.readline().decode('ascii').split()]\n",
    "    depth = int(pgmf.readline())\n",
    "    assert depth <= 255\n",
    "\n",
    "    raster = []\n",
    "    for y in range(height):\n",
    "        d = [];\n",
    "        for y in range(width):\n",
    "            d.append(ord(pgmf.read(1)))\n",
    "        raster.append(d)\n",
    "    return raster\n",
    "data = []\n",
    "label = []\n",
    "for i in range(1,41):\n",
    "    for j in range(1,11):\n",
    "        f = open(f'J:/champions work/datasets/archive (1)/s{i}/{j}.pgm', 'rb')\n",
    "        image = read_pgm(f)\n",
    "        label.append(i)\n",
    "        data.append(image)\n",
    "num_images = len(data)\n",
    "image_width = len(data[0])\n",
    "image_height = len(data[0][0])\n",
    "\n",
    "print(f\"Number of images: {num_images}\")\n",
    "print(f\"Width of images: {image_width}\")\n",
    "print(f\"Height of images: {image_height}\")"
   ]
  },
  {
   "cell_type": "code",
   "execution_count": 6,
   "id": "1ecfe14c",
   "metadata": {},
   "outputs": [],
   "source": [
    "import numpy as np\n",
    "import pandas as pd"
   ]
  },
  {
   "cell_type": "markdown",
   "id": "bffb0e8b",
   "metadata": {},
   "source": [
    "Now we'll try to reduce the number of pixels by the method mentioned here:\n",
    "https://stackoverflow.com/questions/48435977/reduce-number-of-pixels-to-obtain-low-resolution-image"
   ]
  },
  {
   "cell_type": "code",
   "execution_count": 2,
   "id": "6ed0e0a9",
   "metadata": {},
   "outputs": [],
   "source": [
    "def reduce_pixels(original_image):\n",
    "    new_image = []\n",
    "    l = 0\n",
    "    for i in range(0, len(original_image), 3):\n",
    "        new_image.append([])\n",
    "        for j in range(0, len(original_image[0]), 3):\n",
    "            s = 0\n",
    "            for x in range(i, min(i + 3, len(original_image))):\n",
    "                for y in range(j, min(j + 3, len(original_image[0]))):\n",
    "                    s += original_image[x][y];\n",
    "            new_image[l].append(s/49)\n",
    "        l = l + 1\n",
    "    return new_image\n",
    "def red(data):\n",
    "    reduced_pixels_data = []\n",
    "    for i in range(400):\n",
    "        reduced_pixels_data.append(reduce_pixels(data[i]))\n",
    "    return reduced_pixels_data\n",
    "    # Now we'll vectorize the matrix\n"
   ]
  },
  {
   "cell_type": "code",
   "execution_count": 3,
   "id": "4d6794a7",
   "metadata": {},
   "outputs": [],
   "source": [
    "def vectorize(reduced_pixels_data):\n",
    "    reduced_pixels_data_vectorized = []\n",
    "    for i in range(400):\n",
    "        v = []\n",
    "        for j in range(len(reduced_pixels_data[0])):\n",
    "            for l in range(len(reduced_pixels_data[0][0])):\n",
    "                v.append(reduced_pixels_data[i][j][l])\n",
    "        reduced_pixels_data_vectorized.append(v)\n",
    "    return reduced_pixels_data_vectorized"
   ]
  },
  {
   "cell_type": "markdown",
   "id": "3e14340b",
   "metadata": {},
   "source": [
    "Dataframe constructor has a strange behaviour"
   ]
  },
  {
   "cell_type": "code",
   "execution_count": 32,
   "id": "6a3a82c9",
   "metadata": {},
   "outputs": [],
   "source": [
    "def PCA(D, alpha):\n",
    "    meu = np.mean(D, axis=0)\n",
    "    z = D - meu\n",
    "    z = np.around(z, decimals=2)\n",
    "    E = z.T @ z\n",
    "    print(len(E))\n",
    "    print(len(E[0]))\n",
    "    eigenvalues, eigenvectors = np.linalg.eigh(E)\n",
    "    total_variance = sum(eigenvalues)\n",
    "    eigen_pairs = [(eigenvalues[i], eigenvectors[:, i]) for i in range(len(eigenvalues))]\n",
    "    sorted_eigen_pairs = sorted(eigen_pairs, key=lambda x: x[0], reverse=True)\n",
    "    Ut = []\n",
    "    s = 0\n",
    "    for eigenvalue, eigenvector in sorted_eigen_pairs:\n",
    "        s += eigenvalue\n",
    "        Ut.append(eigenvector)\n",
    "        if(s/total_variance >= alpha):\n",
    "            break;\n",
    "    Ut = np.array(Ut)\n",
    "    P = Ut.T @ Ut\n",
    "    print(len(Ut))\n",
    "    print(len(Ut[0]))\n",
    "    return P "
   ]
  },
  {
   "cell_type": "code",
   "execution_count": null,
   "id": "c1fd131a",
   "metadata": {},
   "outputs": [],
   "source": []
  },
  {
   "cell_type": "code",
   "execution_count": null,
   "id": "32ebe911",
   "metadata": {},
   "outputs": [],
   "source": []
  },
  {
   "cell_type": "code",
   "execution_count": null,
   "id": "924c5d28",
   "metadata": {},
   "outputs": [],
   "source": []
  },
  {
   "cell_type": "code",
   "execution_count": null,
   "id": "48c50407",
   "metadata": {},
   "outputs": [],
   "source": []
  },
  {
   "cell_type": "code",
   "execution_count": null,
   "id": "9d3c005c",
   "metadata": {},
   "outputs": [],
   "source": []
  },
  {
   "cell_type": "code",
   "execution_count": null,
   "id": "085947c5",
   "metadata": {},
   "outputs": [],
   "source": []
  },
  {
   "cell_type": "code",
   "execution_count": null,
   "id": "4fd24836",
   "metadata": {},
   "outputs": [],
   "source": []
  },
  {
   "cell_type": "code",
   "execution_count": null,
   "id": "d5f1058f",
   "metadata": {},
   "outputs": [],
   "source": []
  },
  {
   "cell_type": "markdown",
   "id": "180455e5",
   "metadata": {},
   "source": [
    "Links that helped us in this part:\n",
    "1 How to split the matrix\n",
    "https://www.mathworks.com/matlabcentral/answers/102465-how-do-i-extract-the-odd-and-even-rows-of-my-matrix-into-two-separate-matrices-and-reconstruct-it-ba\n",
    "https://www.geeksforgeeks.org/python-list-slicing/\n",
    "2 A dataframe or a python list\n",
    "https://www.quora.com/What-is-the-difference-between-a-DataFrame-and-a-list-of-tuples-in-Python-Which-is-better-in-terms-of-performance#:~:text=DataFrames%20also%20have%20built%2Din,datasets%20with%20a%20simple%20structure."
   ]
  },
  {
   "cell_type": "code",
   "execution_count": 51,
   "id": "7a662b17",
   "metadata": {},
   "outputs": [
    {
     "name": "stdout",
     "output_type": "stream",
     "text": [
      "1178\n",
      "1178\n",
      "149\n",
      "1178\n"
     ]
    }
   ],
   "source": [
    "D = red(data)\n",
    "v = vectorize(D)\n",
    "train_data = np.array(v[1::2][:])\n",
    "test_data = np.array(v[0::2][:])\n",
    "train_labels = np.array(label[1::2].copy())\n",
    "test_labels = np.array(label[1::2].copy())\n",
    "P = PCA(train_data, .99)\n",
    "projected_train_data = (P @ train_data.T).T\n",
    "projected_test_data = (P @ test_data.T).T"
   ]
  },
  {
   "cell_type": "code",
   "execution_count": 52,
   "id": "535053fa",
   "metadata": {},
   "outputs": [
    {
     "name": "stdout",
     "output_type": "stream",
     "text": [
      "[16  2  1  1  1  2  2  2  2  2  3  3  3  3  3  4  4  4  4  4  5  5  5  5\n",
      "  5  6  6  6  6  6  7  7  7  7  7  8  8  8  8  8  9  9  9  9  9 10 10 10\n",
      " 10 38 11 11 11 11 11 12 12 12 12 12 13 13 13 13 13 14 14 14 14 14 15 15\n",
      " 15 15 15 16 16 16 16 16 17 17 17 17 17 18 18 18 18 18 19 19 19 19 36 20\n",
      " 20  3 20 20 21 21 21 21 21 22 22 22 22 22 23 23 23 23 23 24 24 24 24 24\n",
      " 25 25 25 25 25 26 26 26 26 26 27 27 27 27 27 28 28 28 28 28 29 29 29 29\n",
      " 29 30 30 30 30 30 31 31 31 30 31 32 32 32 32 32 33 33 33 33 33 34 34 34\n",
      " 34 34 40 35 35 35 35 36 36  7 36 36 37 37 37 37 37 38 38 38 38 38 39 39\n",
      " 39 39 39 40 40  5  5  5]\n",
      "[ 1  1  1  1  1  2  2  2  2  2  3  3  3  3  3  4  4  4  4  4  5  5  5  5\n",
      "  5  6  6  6  6  6  7  7  7  7  7  8  8  8  8  8  9  9  9  9  9 10 10 10\n",
      " 10 10 11 11 11 11 11 12 12 12 12 12 13 13 13 13 13 14 14 14 14 14 15 15\n",
      " 15 15 15 16 16 16 16 16 17 17 17 17 17 18 18 18 18 18 19 19 19 19 19 20\n",
      " 20 20 20 20 21 21 21 21 21 22 22 22 22 22 23 23 23 23 23 24 24 24 24 24\n",
      " 25 25 25 25 25 26 26 26 26 26 27 27 27 27 27 28 28 28 28 28 29 29 29 29\n",
      " 29 30 30 30 30 30 31 31 31 31 31 32 32 32 32 32 33 33 33 33 33 34 34 34\n",
      " 34 34 35 35 35 35 35 36 36 36 36 36 37 37 37 37 37 38 38 38 38 38 39 39\n",
      " 39 39 39 40 40 40 40 40]\n",
      "94.5\n"
     ]
    }
   ],
   "source": [
    "from sklearn.neighbors import KNeighborsClassifier \n",
    "knn = KNeighborsClassifier(n_neighbors=1) \n",
    "  \n",
    "knn.fit(projected_train_data, train_labels) \n",
    "# Predict on dataset which model has not seen before \n",
    "predict = (knn.predict(projected_test_data)) \n",
    "print(predict)\n",
    "print(test_labels) \n",
    "s = 0\n",
    "for i in range(len(test_labels)):\n",
    "    if(test_labels[i] == predict[i]):\n",
    "        s += 1\n",
    "print(s / len(test_labels) * 100)"
   ]
  },
  {
   "cell_type": "code",
   "execution_count": null,
   "id": "f2a59209",
   "metadata": {},
   "outputs": [],
   "source": []
  }
 ],
 "metadata": {
  "kernelspec": {
   "display_name": "Python 3 (ipykernel)",
   "language": "python",
   "name": "python3"
  },
  "language_info": {
   "codemirror_mode": {
    "name": "ipython",
    "version": 3
   },
   "file_extension": ".py",
   "mimetype": "text/x-python",
   "name": "python",
   "nbconvert_exporter": "python",
   "pygments_lexer": "ipython3",
   "version": "3.11.4"
  }
 },
 "nbformat": 4,
 "nbformat_minor": 5
}
